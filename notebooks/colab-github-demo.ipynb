{
  "cells": [
    {
      "cell_type": "markdown",
      "metadata": {
        "id": "view-in-github",
        "colab_type": "text"
      },
      "source": [
        "<a href=\"https://colab.research.google.com/github/AEE099/blank-app/blob/main/notebooks/colab-github-demo.ipynb\" target=\"_parent\"><img src=\"https://colab.research.google.com/assets/colab-badge.svg\" alt=\"Open In Colab\"/></a>"
      ]
    },
    {
      "cell_type": "markdown",
      "metadata": {
        "id": "-pVhOfzLx9us"
      },
      "source": [
        "# Using Google Colab with GitHub\n",
        "\n"
      ]
    },
    {
      "cell_type": "code",
      "source": [
        "print ( \"Introduce el numero a comparar: \")\n",
        "\n",
        "num_uno = int ( input (\"Introduce el primer numero\" ) )\n",
        "num_dos = int ( input (\"Introduce el segundo numero\" ) )\n",
        "\n",
        "print(\"\\nLos numeros a comparar son:\", num_uno, \"y\", num_dos, \"\\n\")\n",
        "\n",
        "if num_uno == num_dos:\n",
        "    print (\"Los numeros son iguales \\n\")\n",
        "\n",
        "if num_uno != num_dos:\n",
        "    print (\"Los numeros son diferentes \\n\")\n",
        "\n",
        "if num_uno < num_dos:\n",
        "    print (\"El primer numero es menor que el segundo \\n\")\n",
        "if num_uno > num_dos:\n",
        "    print (\"El primer numero es mayor que el segundo \\n\")\n",
        "if num_uno <= num_dos:\n",
        "    print (\"El primer numero es menor o igual que el segundo \\n\")\n",
        "\n",
        "if num_uno >= num_dos:\n",
        "    print (\"El primer numero es mayor o igual que el segundo \\n\")\n",
        "\n",
        ""
      ],
      "metadata": {
        "id": "Pyh-B1MeF9Yk",
        "outputId": "d22618a0-72f0-4e0b-806a-edc07c32a157",
        "colab": {
          "base_uri": "https://localhost:8080/"
        }
      },
      "execution_count": 1,
      "outputs": [
        {
          "output_type": "stream",
          "name": "stdout",
          "text": [
            "Introduce el numero a comparar: \n",
            "Introduce el primer numero20\n",
            "Introduce el segundo numero15\n",
            "\n",
            "Los numeros a comparar son: 20 y 15 \n",
            "\n",
            "Los numeros son diferentes \n",
            "\n",
            "El primer numero es mayor que el segundo \n",
            "\n",
            "El primer numero es mayor o igual que el segundo \n",
            "\n"
          ]
        }
      ]
    }
  ],
  "metadata": {
    "colab": {
      "name": "colab-github-demo.ipynb",
      "provenance": [],
      "include_colab_link": true
    },
    "kernelspec": {
      "display_name": "Python 3",
      "name": "python3"
    }
  },
  "nbformat": 4,
  "nbformat_minor": 0
}